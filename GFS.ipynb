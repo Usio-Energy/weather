{
 "cells": [
  {
   "cell_type": "code",
   "execution_count": 1,
   "metadata": {},
   "outputs": [],
   "source": [
    "import os\n",
    "from ftplib import FTP\n",
    "from tqdm import tqdm"
   ]
  },
  {
   "cell_type": "code",
   "execution_count": 2,
   "metadata": {},
   "outputs": [],
   "source": [
    "ftp_server = 'ftp.ncep.noaa.gov'\n",
    "ftp_dir = 'pub/data/nccf/com/gens/prod/gefs.20181003/06/pgrb2/'"
   ]
  },
  {
   "cell_type": "code",
   "execution_count": 3,
   "metadata": {},
   "outputs": [],
   "source": [
    "def get_files():\n",
    "    with FTP(ftp_server) as ftp:\n",
    "        ftp.login()\n",
    "        ftp.cwd(ftp_dir)\n",
    "        filenames = ftp.nlst()\n",
    "        for filename in tqdm(filenames):\n",
    "            local_filename = os.path.join('data', filename)\n",
    "            with open(local_filename, 'wb') as file:\n",
    "                ftp.retrbinary('RETR '+ filename, file.write)"
   ]
  },
  {
   "cell_type": "code",
   "execution_count": null,
   "metadata": {},
   "outputs": [
    {
     "name": "stderr",
     "output_type": "stream",
     "text": [
      " 73%|███████▎  | 2032/2772 [4:31:58<50:27,  4.09s/it]  "
     ]
    }
   ],
   "source": [
    "get_files()"
   ]
  },
  {
   "cell_type": "code",
   "execution_count": 45,
   "metadata": {},
   "outputs": [
    {
     "data": {
      "text/plain": [
       "'221 Goodbye.'"
      ]
     },
     "execution_count": 45,
     "metadata": {},
     "output_type": "execute_result"
    }
   ],
   "source": [
    "ftp = FTP(ftp_server)\n",
    "ftp.login()\n",
    "ftp.cwd(ftp_dir)\n",
    "filenames = ftp.nlst()\n",
    "ftp.quit()"
   ]
  }
 ],
 "metadata": {
  "kernelspec": {
   "display_name": "Python 3",
   "language": "python",
   "name": "python3"
  },
  "language_info": {
   "codemirror_mode": {
    "name": "ipython",
    "version": 3
   },
   "file_extension": ".py",
   "mimetype": "text/x-python",
   "name": "python",
   "nbconvert_exporter": "python",
   "pygments_lexer": "ipython3",
   "version": "3.6.4"
  }
 },
 "nbformat": 4,
 "nbformat_minor": 2
}
